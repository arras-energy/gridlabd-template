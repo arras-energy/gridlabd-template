{
 "cells": [
  {
   "cell_type": "code",
   "execution_count": 1,
   "id": "a1fc8d71",
   "metadata": {},
   "outputs": [],
   "source": [
    "utility_name = \"Pacific Gas & Electric Co\""
   ]
  },
  {
   "cell_type": "code",
   "execution_count": 2,
   "id": "41161d25",
   "metadata": {},
   "outputs": [],
   "source": [
    "sector_type = \"Residential\""
   ]
  },
  {
   "cell_type": "code",
   "execution_count": 3,
   "id": "5a578c2b",
   "metadata": {},
   "outputs": [],
   "source": [
    "tariff_name = \"E-TOU Option A - Residential Time of Use Service Baseline Region Z\""
   ]
  },
  {
   "cell_type": "code",
   "execution_count": 4,
   "id": "29b80575",
   "metadata": {},
   "outputs": [],
   "source": [
    "import pandas\n",
    "pandas.set_option(\"max_rows\",None)\n",
    "pandas.set_option(\"max_columns\",None)\n",
    "data = pandas.read_csv(\"../../../../../usurdb.csv\",low_memory=False)"
   ]
  },
  {
   "cell_type": "code",
   "execution_count": 5,
   "id": "1601be32",
   "metadata": {},
   "outputs": [],
   "source": [
    "utility = data[data.utility==utility_name]\n",
    "utility_active = utility[utility[\"enddate\"].isna()]\n",
    "tariff = {}\n",
    "for sector in pandas.unique(utility_active['sector']):\n",
    "    tariff[sector] = utility_active[utility_active['sector']==sector].dropna(how='all',axis=1)"
   ]
  },
  {
   "cell_type": "code",
   "execution_count": 6,
   "id": "47d349f3",
   "metadata": {},
   "outputs": [
    {
     "data": {
      "text/plain": [
       "dict"
      ]
     },
     "execution_count": 6,
     "metadata": {},
     "output_type": "execute_result"
    }
   ],
   "source": [
    "type(tariff)"
   ]
  },
  {
   "cell_type": "code",
   "execution_count": 7,
   "id": "c0577e11",
   "metadata": {},
   "outputs": [
    {
     "data": {
      "text/plain": [
       "pandas.core.frame.DataFrame"
      ]
     },
     "execution_count": 7,
     "metadata": {},
     "output_type": "execute_result"
    }
   ],
   "source": [
    "type(tariff[\"Residential\"])"
   ]
  },
  {
   "cell_type": "code",
   "execution_count": 8,
   "id": "a6a6e458",
   "metadata": {},
   "outputs": [
    {
     "data": {
      "text/html": [
       "<div>\n",
       "<style scoped>\n",
       "    .dataframe tbody tr th:only-of-type {\n",
       "        vertical-align: middle;\n",
       "    }\n",
       "\n",
       "    .dataframe tbody tr th {\n",
       "        vertical-align: top;\n",
       "    }\n",
       "\n",
       "    .dataframe thead th {\n",
       "        text-align: right;\n",
       "    }\n",
       "</style>\n",
       "<table border=\"1\" class=\"dataframe\">\n",
       "  <thead>\n",
       "    <tr style=\"text-align: right;\">\n",
       "      <th></th>\n",
       "      <th>399</th>\n",
       "    </tr>\n",
       "  </thead>\n",
       "  <tbody>\n",
       "    <tr>\n",
       "      <th>label</th>\n",
       "      <td>5cbf67bf5457a3091767107f</td>\n",
       "    </tr>\n",
       "    <tr>\n",
       "      <th>eiaid</th>\n",
       "      <td>14328.0</td>\n",
       "    </tr>\n",
       "    <tr>\n",
       "      <th>name</th>\n",
       "      <td>E-TOU Option A - Residential Time of Use Servi...</td>\n",
       "    </tr>\n",
       "    <tr>\n",
       "      <th>is_default</th>\n",
       "      <td>False</td>\n",
       "    </tr>\n",
       "    <tr>\n",
       "      <th>startdate</th>\n",
       "      <td>2019-04-01 00:00:00</td>\n",
       "    </tr>\n",
       "    <tr>\n",
       "      <th>utility</th>\n",
       "      <td>Pacific Gas &amp; Electric Co</td>\n",
       "    </tr>\n",
       "    <tr>\n",
       "      <th>sector</th>\n",
       "      <td>Residential</td>\n",
       "    </tr>\n",
       "    <tr>\n",
       "      <th>description</th>\n",
       "      <td>NaN</td>\n",
       "    </tr>\n",
       "    <tr>\n",
       "      <th>source</th>\n",
       "      <td>http://www.pge.com/tariffs/tm2/pdf/ELEC_SCHEDS...</td>\n",
       "    </tr>\n",
       "    <tr>\n",
       "      <th>sourceparent</th>\n",
       "      <td>https://www.pge.com/tariffs/index.page</td>\n",
       "    </tr>\n",
       "    <tr>\n",
       "      <th>dgrules</th>\n",
       "      <td>Net Metering</td>\n",
       "    </tr>\n",
       "    <tr>\n",
       "      <th>phasewiring</th>\n",
       "      <td>NaN</td>\n",
       "    </tr>\n",
       "    <tr>\n",
       "      <th>fixedchargefirstmeter</th>\n",
       "      <td>NaN</td>\n",
       "    </tr>\n",
       "    <tr>\n",
       "      <th>fixedchargeunits</th>\n",
       "      <td>$/month</td>\n",
       "    </tr>\n",
       "    <tr>\n",
       "      <th>mincharge</th>\n",
       "      <td>10.0</td>\n",
       "    </tr>\n",
       "    <tr>\n",
       "      <th>minchargeunits</th>\n",
       "      <td>$/month</td>\n",
       "    </tr>\n",
       "    <tr>\n",
       "      <th>fixedattrs</th>\n",
       "      <td>NaN</td>\n",
       "    </tr>\n",
       "    <tr>\n",
       "      <th>basicinformationcomments</th>\n",
       "      <td>NaN</td>\n",
       "    </tr>\n",
       "    <tr>\n",
       "      <th>flatdemandunit</th>\n",
       "      <td>NaN</td>\n",
       "    </tr>\n",
       "    <tr>\n",
       "      <th>demandrateunit</th>\n",
       "      <td>NaN</td>\n",
       "    </tr>\n",
       "    <tr>\n",
       "      <th>energyratestructure/period0/tier0max</th>\n",
       "      <td>6.2</td>\n",
       "    </tr>\n",
       "    <tr>\n",
       "      <th>energyratestructure/period0/tier0rate</th>\n",
       "      <td>0.24174</td>\n",
       "    </tr>\n",
       "    <tr>\n",
       "      <th>energyratestructure/period0/tier1max</th>\n",
       "      <td>NaN</td>\n",
       "    </tr>\n",
       "    <tr>\n",
       "      <th>energyratestructure/period0/tier1rate</th>\n",
       "      <td>0.32175</td>\n",
       "    </tr>\n",
       "    <tr>\n",
       "      <th>energyratestructure/period0/tier2max</th>\n",
       "      <td>NaN</td>\n",
       "    </tr>\n",
       "    <tr>\n",
       "      <th>energyratestructure/period0/tier2rate</th>\n",
       "      <td>NaN</td>\n",
       "    </tr>\n",
       "    <tr>\n",
       "      <th>energyratestructure/period0/tier3max</th>\n",
       "      <td>NaN</td>\n",
       "    </tr>\n",
       "    <tr>\n",
       "      <th>energyratestructure/period0/tier3rate</th>\n",
       "      <td>NaN</td>\n",
       "    </tr>\n",
       "    <tr>\n",
       "      <th>energyratestructure/period0/tier4rate</th>\n",
       "      <td>NaN</td>\n",
       "    </tr>\n",
       "    <tr>\n",
       "      <th>energyratestructure/period1/tier0max</th>\n",
       "      <td>6.2</td>\n",
       "    </tr>\n",
       "    <tr>\n",
       "      <th>energyratestructure/period1/tier0rate</th>\n",
       "      <td>0.31732</td>\n",
       "    </tr>\n",
       "    <tr>\n",
       "      <th>energyratestructure/period1/tier1max</th>\n",
       "      <td>NaN</td>\n",
       "    </tr>\n",
       "    <tr>\n",
       "      <th>energyratestructure/period1/tier1rate</th>\n",
       "      <td>0.39733</td>\n",
       "    </tr>\n",
       "    <tr>\n",
       "      <th>energyratestructure/period1/tier2max</th>\n",
       "      <td>NaN</td>\n",
       "    </tr>\n",
       "    <tr>\n",
       "      <th>energyratestructure/period1/tier2rate</th>\n",
       "      <td>NaN</td>\n",
       "    </tr>\n",
       "    <tr>\n",
       "      <th>energyratestructure/period1/tier3max</th>\n",
       "      <td>NaN</td>\n",
       "    </tr>\n",
       "    <tr>\n",
       "      <th>energyratestructure/period1/tier3rate</th>\n",
       "      <td>NaN</td>\n",
       "    </tr>\n",
       "    <tr>\n",
       "      <th>energyratestructure/period1/tier4rate</th>\n",
       "      <td>NaN</td>\n",
       "    </tr>\n",
       "    <tr>\n",
       "      <th>energyratestructure/period2/tier0max</th>\n",
       "      <td>8.1</td>\n",
       "    </tr>\n",
       "    <tr>\n",
       "      <th>energyratestructure/period2/tier0rate</th>\n",
       "      <td>0.18505</td>\n",
       "    </tr>\n",
       "    <tr>\n",
       "      <th>energyratestructure/period2/tier1max</th>\n",
       "      <td>NaN</td>\n",
       "    </tr>\n",
       "    <tr>\n",
       "      <th>energyratestructure/period2/tier1rate</th>\n",
       "      <td>0.26506</td>\n",
       "    </tr>\n",
       "    <tr>\n",
       "      <th>energyratestructure/period2/tier2max</th>\n",
       "      <td>NaN</td>\n",
       "    </tr>\n",
       "    <tr>\n",
       "      <th>energyratestructure/period2/tier2rate</th>\n",
       "      <td>NaN</td>\n",
       "    </tr>\n",
       "    <tr>\n",
       "      <th>energyratestructure/period2/tier3max</th>\n",
       "      <td>NaN</td>\n",
       "    </tr>\n",
       "    <tr>\n",
       "      <th>energyratestructure/period2/tier3rate</th>\n",
       "      <td>NaN</td>\n",
       "    </tr>\n",
       "    <tr>\n",
       "      <th>energyratestructure/period2/tier4rate</th>\n",
       "      <td>NaN</td>\n",
       "    </tr>\n",
       "    <tr>\n",
       "      <th>energyratestructure/period3/tier0max</th>\n",
       "      <td>8.1</td>\n",
       "    </tr>\n",
       "    <tr>\n",
       "      <th>energyratestructure/period3/tier0rate</th>\n",
       "      <td>0.19934</td>\n",
       "    </tr>\n",
       "    <tr>\n",
       "      <th>energyratestructure/period3/tier1max</th>\n",
       "      <td>NaN</td>\n",
       "    </tr>\n",
       "    <tr>\n",
       "      <th>energyratestructure/period3/tier1rate</th>\n",
       "      <td>0.27935</td>\n",
       "    </tr>\n",
       "    <tr>\n",
       "      <th>energyratestructure/period3/tier2max</th>\n",
       "      <td>NaN</td>\n",
       "    </tr>\n",
       "    <tr>\n",
       "      <th>energyratestructure/period3/tier2rate</th>\n",
       "      <td>NaN</td>\n",
       "    </tr>\n",
       "    <tr>\n",
       "      <th>energyratestructure/period3/tier3max</th>\n",
       "      <td>NaN</td>\n",
       "    </tr>\n",
       "    <tr>\n",
       "      <th>energyratestructure/period3/tier3rate</th>\n",
       "      <td>NaN</td>\n",
       "    </tr>\n",
       "    <tr>\n",
       "      <th>energyratestructure/period3/tier4rate</th>\n",
       "      <td>NaN</td>\n",
       "    </tr>\n",
       "    <tr>\n",
       "      <th>energyratestructure/period4/tier0max</th>\n",
       "      <td>NaN</td>\n",
       "    </tr>\n",
       "    <tr>\n",
       "      <th>energyratestructure/period4/tier0rate</th>\n",
       "      <td>NaN</td>\n",
       "    </tr>\n",
       "    <tr>\n",
       "      <th>energyratestructure/period4/tier1rate</th>\n",
       "      <td>NaN</td>\n",
       "    </tr>\n",
       "    <tr>\n",
       "      <th>energyratestructure/period5/tier0rate</th>\n",
       "      <td>NaN</td>\n",
       "    </tr>\n",
       "    <tr>\n",
       "      <th>energyratestructure/period6/tier0rate</th>\n",
       "      <td>NaN</td>\n",
       "    </tr>\n",
       "    <tr>\n",
       "      <th>energyratestructure/period7/tier0rate</th>\n",
       "      <td>NaN</td>\n",
       "    </tr>\n",
       "    <tr>\n",
       "      <th>energyweekdayschedule</th>\n",
       "      <td>[[2L, 2L, 2L, 2L, 2L, 2L, 2L, 2L, 2L, 2L, 2L, ...</td>\n",
       "    </tr>\n",
       "    <tr>\n",
       "      <th>energyweekendschedule</th>\n",
       "      <td>[[2L, 2L, 2L, 2L, 2L, 2L, 2L, 2L, 2L, 2L, 2L, ...</td>\n",
       "    </tr>\n",
       "    <tr>\n",
       "      <th>energycomments</th>\n",
       "      <td>NaN</td>\n",
       "    </tr>\n",
       "    <tr>\n",
       "      <th>supersedes</th>\n",
       "      <td>5a32f19f5457a389285c48a2</td>\n",
       "    </tr>\n",
       "  </tbody>\n",
       "</table>\n",
       "</div>"
      ],
      "text/plain": [
       "                                                                                     399\n",
       "label                                                           5cbf67bf5457a3091767107f\n",
       "eiaid                                                                            14328.0\n",
       "name                                   E-TOU Option A - Residential Time of Use Servi...\n",
       "is_default                                                                         False\n",
       "startdate                                                            2019-04-01 00:00:00\n",
       "utility                                                        Pacific Gas & Electric Co\n",
       "sector                                                                       Residential\n",
       "description                                                                          NaN\n",
       "source                                 http://www.pge.com/tariffs/tm2/pdf/ELEC_SCHEDS...\n",
       "sourceparent                                      https://www.pge.com/tariffs/index.page\n",
       "dgrules                                                                     Net Metering\n",
       "phasewiring                                                                          NaN\n",
       "fixedchargefirstmeter                                                                NaN\n",
       "fixedchargeunits                                                                 $/month\n",
       "mincharge                                                                           10.0\n",
       "minchargeunits                                                                   $/month\n",
       "fixedattrs                                                                           NaN\n",
       "basicinformationcomments                                                             NaN\n",
       "flatdemandunit                                                                       NaN\n",
       "demandrateunit                                                                       NaN\n",
       "energyratestructure/period0/tier0max                                                 6.2\n",
       "energyratestructure/period0/tier0rate                                            0.24174\n",
       "energyratestructure/period0/tier1max                                                 NaN\n",
       "energyratestructure/period0/tier1rate                                            0.32175\n",
       "energyratestructure/period0/tier2max                                                 NaN\n",
       "energyratestructure/period0/tier2rate                                                NaN\n",
       "energyratestructure/period0/tier3max                                                 NaN\n",
       "energyratestructure/period0/tier3rate                                                NaN\n",
       "energyratestructure/period0/tier4rate                                                NaN\n",
       "energyratestructure/period1/tier0max                                                 6.2\n",
       "energyratestructure/period1/tier0rate                                            0.31732\n",
       "energyratestructure/period1/tier1max                                                 NaN\n",
       "energyratestructure/period1/tier1rate                                            0.39733\n",
       "energyratestructure/period1/tier2max                                                 NaN\n",
       "energyratestructure/period1/tier2rate                                                NaN\n",
       "energyratestructure/period1/tier3max                                                 NaN\n",
       "energyratestructure/period1/tier3rate                                                NaN\n",
       "energyratestructure/period1/tier4rate                                                NaN\n",
       "energyratestructure/period2/tier0max                                                 8.1\n",
       "energyratestructure/period2/tier0rate                                            0.18505\n",
       "energyratestructure/period2/tier1max                                                 NaN\n",
       "energyratestructure/period2/tier1rate                                            0.26506\n",
       "energyratestructure/period2/tier2max                                                 NaN\n",
       "energyratestructure/period2/tier2rate                                                NaN\n",
       "energyratestructure/period2/tier3max                                                 NaN\n",
       "energyratestructure/period2/tier3rate                                                NaN\n",
       "energyratestructure/period2/tier4rate                                                NaN\n",
       "energyratestructure/period3/tier0max                                                 8.1\n",
       "energyratestructure/period3/tier0rate                                            0.19934\n",
       "energyratestructure/period3/tier1max                                                 NaN\n",
       "energyratestructure/period3/tier1rate                                            0.27935\n",
       "energyratestructure/period3/tier2max                                                 NaN\n",
       "energyratestructure/period3/tier2rate                                                NaN\n",
       "energyratestructure/period3/tier3max                                                 NaN\n",
       "energyratestructure/period3/tier3rate                                                NaN\n",
       "energyratestructure/period3/tier4rate                                                NaN\n",
       "energyratestructure/period4/tier0max                                                 NaN\n",
       "energyratestructure/period4/tier0rate                                                NaN\n",
       "energyratestructure/period4/tier1rate                                                NaN\n",
       "energyratestructure/period5/tier0rate                                                NaN\n",
       "energyratestructure/period6/tier0rate                                                NaN\n",
       "energyratestructure/period7/tier0rate                                                NaN\n",
       "energyweekdayschedule                  [[2L, 2L, 2L, 2L, 2L, 2L, 2L, 2L, 2L, 2L, 2L, ...\n",
       "energyweekendschedule                  [[2L, 2L, 2L, 2L, 2L, 2L, 2L, 2L, 2L, 2L, 2L, ...\n",
       "energycomments                                                                       NaN\n",
       "supersedes                                                      5a32f19f5457a389285c48a2"
      ]
     },
     "execution_count": 8,
     "metadata": {},
     "output_type": "execute_result"
    }
   ],
   "source": [
    "tariff[sector_type].query('name==@tariff_name').transpose()"
   ]
  },
  {
   "cell_type": "code",
   "execution_count": 9,
   "id": "884a4d5c",
   "metadata": {},
   "outputs": [],
   "source": [
    "tariff_data = tariff[sector_type].query('name==@tariff_name').transpose()"
   ]
  },
  {
   "cell_type": "code",
   "execution_count": 10,
   "id": "534973ad",
   "metadata": {},
   "outputs": [
    {
     "data": {
      "text/html": [
       "<div>\n",
       "<style scoped>\n",
       "    .dataframe tbody tr th:only-of-type {\n",
       "        vertical-align: middle;\n",
       "    }\n",
       "\n",
       "    .dataframe tbody tr th {\n",
       "        vertical-align: top;\n",
       "    }\n",
       "\n",
       "    .dataframe thead th {\n",
       "        text-align: right;\n",
       "    }\n",
       "</style>\n",
       "<table border=\"1\" class=\"dataframe\">\n",
       "  <thead>\n",
       "    <tr style=\"text-align: right;\">\n",
       "      <th></th>\n",
       "      <th>399</th>\n",
       "    </tr>\n",
       "  </thead>\n",
       "  <tbody>\n",
       "    <tr>\n",
       "      <th>energyratestructure/period0/tier0rate</th>\n",
       "      <td>0.24174</td>\n",
       "    </tr>\n",
       "    <tr>\n",
       "      <th>energyratestructure/period0/tier1rate</th>\n",
       "      <td>0.32175</td>\n",
       "    </tr>\n",
       "    <tr>\n",
       "      <th>energyratestructure/period0/tier2rate</th>\n",
       "      <td>NaN</td>\n",
       "    </tr>\n",
       "    <tr>\n",
       "      <th>energyratestructure/period0/tier3rate</th>\n",
       "      <td>NaN</td>\n",
       "    </tr>\n",
       "    <tr>\n",
       "      <th>energyratestructure/period0/tier4rate</th>\n",
       "      <td>NaN</td>\n",
       "    </tr>\n",
       "  </tbody>\n",
       "</table>\n",
       "</div>"
      ],
      "text/plain": [
       "                                           399\n",
       "energyratestructure/period0/tier0rate  0.24174\n",
       "energyratestructure/period0/tier1rate  0.32175\n",
       "energyratestructure/period0/tier2rate      NaN\n",
       "energyratestructure/period0/tier3rate      NaN\n",
       "energyratestructure/period0/tier4rate      NaN"
      ]
     },
     "execution_count": 10,
     "metadata": {},
     "output_type": "execute_result"
    }
   ],
   "source": [
    "# could be more efficient\n",
    "period_0_rates = tariff_data.loc[['energyratestructure/period0/tier0rate',\n",
    "                            'energyratestructure/period0/tier1rate',\n",
    "                            'energyratestructure/period0/tier2rate',\n",
    "                            'energyratestructure/period0/tier3rate',\n",
    "                            'energyratestructure/period0/tier4rate']]\n",
    "period_0_rates"
   ]
  },
  {
   "cell_type": "code",
   "execution_count": 11,
   "id": "a1d7a524",
   "metadata": {},
   "outputs": [],
   "source": [
    "period_1_rates = tariff_data.loc[['energyratestructure/period1/tier0rate',\n",
    "                            'energyratestructure/period1/tier1rate',\n",
    "                            'energyratestructure/period1/tier2rate',\n",
    "                            'energyratestructure/period1/tier3rate',\n",
    "                            'energyratestructure/period1/tier4rate']]\n",
    "period_2_rates = tariff_data.loc[['energyratestructure/period0/tier0rate',\n",
    "                            'energyratestructure/period2/tier1rate',\n",
    "                            'energyratestructure/period2/tier2rate',\n",
    "                            'energyratestructure/period2/tier3rate',\n",
    "                            'energyratestructure/period2/tier4rate']]\n",
    "period_3_rates = tariff_data.loc[['energyratestructure/period3/tier0rate',\n",
    "                            'energyratestructure/period3/tier1rate',\n",
    "                            'energyratestructure/period3/tier2rate',\n",
    "                            'energyratestructure/period3/tier3rate',\n",
    "                            'energyratestructure/period3/tier4rate']]"
   ]
  },
  {
   "cell_type": "code",
   "execution_count": 12,
   "id": "c68d45fd",
   "metadata": {},
   "outputs": [
    {
     "data": {
      "text/plain": [
       "pandas.core.frame.DataFrame"
      ]
     },
     "execution_count": 12,
     "metadata": {},
     "output_type": "execute_result"
    }
   ],
   "source": [
    "type(period_0_rates)"
   ]
  },
  {
   "cell_type": "code",
   "execution_count": 13,
   "id": "0f16c1b9",
   "metadata": {},
   "outputs": [],
   "source": [
    "period_0_rates = period_0_rates.squeeze().dropna().tolist()"
   ]
  },
  {
   "cell_type": "code",
   "execution_count": 14,
   "id": "c373e925",
   "metadata": {},
   "outputs": [
    {
     "data": {
      "text/plain": [
       "list"
      ]
     },
     "execution_count": 14,
     "metadata": {},
     "output_type": "execute_result"
    }
   ],
   "source": [
    "type(period_0_rates)"
   ]
  },
  {
   "cell_type": "code",
   "execution_count": 15,
   "id": "3b705fef",
   "metadata": {},
   "outputs": [
    {
     "data": {
      "text/plain": [
       "[0.24174, 0.32175]"
      ]
     },
     "execution_count": 15,
     "metadata": {},
     "output_type": "execute_result"
    }
   ],
   "source": [
    "period_0_rates"
   ]
  },
  {
   "cell_type": "code",
   "execution_count": 24,
   "id": "1bd4cf40",
   "metadata": {},
   "outputs": [
    {
     "ename": "AttributeError",
     "evalue": "'list' object has no attribute 'squeeze'",
     "output_type": "error",
     "traceback": [
      "\u001b[1;31m---------------------------------------------------------------------------\u001b[0m",
      "\u001b[1;31mAttributeError\u001b[0m                            Traceback (most recent call last)",
      "\u001b[1;32m<ipython-input-24-fb8456a4b5a3>\u001b[0m in \u001b[0;36m<module>\u001b[1;34m\u001b[0m\n\u001b[1;32m----> 1\u001b[1;33m \u001b[0mperiod_1_rates\u001b[0m \u001b[1;33m=\u001b[0m \u001b[0mperiod_1_rates\u001b[0m\u001b[1;33m.\u001b[0m\u001b[0msqueeze\u001b[0m\u001b[1;33m(\u001b[0m\u001b[1;33m)\u001b[0m\u001b[1;33m.\u001b[0m\u001b[0mdropna\u001b[0m\u001b[1;33m(\u001b[0m\u001b[1;33m)\u001b[0m\u001b[1;33m.\u001b[0m\u001b[0mtolist\u001b[0m\u001b[1;33m(\u001b[0m\u001b[1;33m)\u001b[0m\u001b[1;33m\u001b[0m\u001b[1;33m\u001b[0m\u001b[0m\n\u001b[0m\u001b[0;32m      2\u001b[0m \u001b[0mperiod_2_rates\u001b[0m \u001b[1;33m=\u001b[0m \u001b[0mperiod_2_rates\u001b[0m\u001b[1;33m.\u001b[0m\u001b[0msqueeze\u001b[0m\u001b[1;33m(\u001b[0m\u001b[1;33m)\u001b[0m\u001b[1;33m.\u001b[0m\u001b[0mdropna\u001b[0m\u001b[1;33m(\u001b[0m\u001b[1;33m)\u001b[0m\u001b[1;33m.\u001b[0m\u001b[0mtolist\u001b[0m\u001b[1;33m(\u001b[0m\u001b[1;33m)\u001b[0m\u001b[1;33m\u001b[0m\u001b[1;33m\u001b[0m\u001b[0m\n\u001b[0;32m      3\u001b[0m \u001b[0mperiod_3_rates\u001b[0m \u001b[1;33m=\u001b[0m \u001b[0mperiod_3_rates\u001b[0m\u001b[1;33m.\u001b[0m\u001b[0msqueeze\u001b[0m\u001b[1;33m(\u001b[0m\u001b[1;33m)\u001b[0m\u001b[1;33m.\u001b[0m\u001b[0mdropna\u001b[0m\u001b[1;33m(\u001b[0m\u001b[1;33m)\u001b[0m\u001b[1;33m.\u001b[0m\u001b[0mtolist\u001b[0m\u001b[1;33m(\u001b[0m\u001b[1;33m)\u001b[0m\u001b[1;33m\u001b[0m\u001b[1;33m\u001b[0m\u001b[0m\n",
      "\u001b[1;31mAttributeError\u001b[0m: 'list' object has no attribute 'squeeze'"
     ]
    }
   ],
   "source": [
    "period_1_rates = period_1_rates.squeeze().dropna().tolist()\n",
    "period_2_rates = period_2_rates.squeeze().dropna().tolist()\n",
    "period_3_rates = period_3_rates.squeeze().dropna().tolist()"
   ]
  },
  {
   "cell_type": "code",
   "execution_count": 25,
   "id": "9135de9c",
   "metadata": {},
   "outputs": [],
   "source": [
    "schedule_dict = {'0L':period_0_rates, '1L':period_1_rates, '2L':period_2_rates,\n",
    "                 '3L':period_3_rates}"
   ]
  },
  {
   "cell_type": "code",
   "execution_count": 26,
   "id": "9f080d49",
   "metadata": {},
   "outputs": [
    {
     "data": {
      "text/plain": [
       "{'0L': [0.24174, 0.32175],\n",
       " '1L': [0.31732, 0.39733],\n",
       " '2L': [0.24174, 0.26506],\n",
       " '3L': [0.19934, 0.27935]}"
      ]
     },
     "execution_count": 26,
     "metadata": {},
     "output_type": "execute_result"
    }
   ],
   "source": [
    "schedule_dict"
   ]
  },
  {
   "cell_type": "code",
   "execution_count": 27,
   "id": "2189a9e6",
   "metadata": {},
   "outputs": [
    {
     "data": {
      "text/plain": [
       "0.24174"
      ]
     },
     "execution_count": 27,
     "metadata": {},
     "output_type": "execute_result"
    }
   ],
   "source": [
    "schedule_dict['0L'][0]"
   ]
  },
  {
   "cell_type": "code",
   "execution_count": 28,
   "id": "52c7aedf",
   "metadata": {},
   "outputs": [
    {
     "data": {
      "text/plain": [
       "2"
      ]
     },
     "execution_count": 28,
     "metadata": {},
     "output_type": "execute_result"
    }
   ],
   "source": [
    "len(schedule_dict['0L'])"
   ]
  },
  {
   "cell_type": "code",
   "execution_count": 29,
   "id": "4d07469e",
   "metadata": {},
   "outputs": [
    {
     "name": "stdout",
     "output_type": "stream",
     "text": [
      " Period 1 rates are [0.24174, 0.32175]  US$/kWh\n"
     ]
    }
   ],
   "source": [
    "print(\" Period 1 rates are\" ,(schedule_dict['0L']), \" US$/kWh\")"
   ]
  },
  {
   "cell_type": "code",
   "execution_count": null,
   "id": "ff5f7725",
   "metadata": {},
   "outputs": [],
   "source": []
  }
 ],
 "metadata": {
  "kernelspec": {
   "display_name": "Python 3",
   "language": "python",
   "name": "python3"
  },
  "language_info": {
   "codemirror_mode": {
    "name": "ipython",
    "version": 3
   },
   "file_extension": ".py",
   "mimetype": "text/x-python",
   "name": "python",
   "nbconvert_exporter": "python",
   "pygments_lexer": "ipython3",
   "version": "3.8.8"
  }
 },
 "nbformat": 4,
 "nbformat_minor": 5
}
