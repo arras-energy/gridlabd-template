{
 "cells": [
  {
   "cell_type": "markdown",
   "id": "aa049f30",
   "metadata": {},
   "source": [
    "## Two-pole or two-node study"
   ]
  },
  {
   "cell_type": "markdown",
   "id": "89c9187f",
   "metadata": {},
   "source": [
    "Need:\n",
    "pole.csv"
   ]
  },
  {
   "cell_type": "code",
   "execution_count": 302,
   "id": "405ed256",
   "metadata": {},
   "outputs": [],
   "source": [
    "import os\n",
    "import pandas as pd\n",
    "import numpy as np\n",
    "import matplotlib.pyplot as plt\n",
    "from math import cos, sin, atan2, pi, sqrt, atan, isnan"
   ]
  },
  {
   "cell_type": "code",
   "execution_count": 303,
   "id": "d943bd3f",
   "metadata": {
    "scrolled": false
   },
   "outputs": [
    {
     "ename": "FileNotFoundError",
     "evalue": "[Errno 2] No such file or directory: 'example_for_gridwere.xls'",
     "output_type": "error",
     "traceback": [
      "\u001b[0;31m---------------------------------------------------------------------------\u001b[0m",
      "\u001b[0;31mFileNotFoundError\u001b[0m                         Traceback (most recent call last)",
      "\u001b[0;32m<ipython-input-303-1b657aeea634>\u001b[0m in \u001b[0;36m<module>\u001b[0;34m\u001b[0m\n\u001b[1;32m      1\u001b[0m \u001b[0mpole_excel_file\u001b[0m \u001b[0;34m=\u001b[0m \u001b[0;34m'example_for_gridwere.xls'\u001b[0m\u001b[0;34m\u001b[0m\u001b[0;34m\u001b[0m\u001b[0m\n\u001b[0;32m----> 2\u001b[0;31m \u001b[0mdf\u001b[0m \u001b[0;34m=\u001b[0m \u001b[0mpd\u001b[0m\u001b[0;34m.\u001b[0m\u001b[0mread_excel\u001b[0m\u001b[0;34m(\u001b[0m\u001b[0mpole_excel_file\u001b[0m\u001b[0;34m,\u001b[0m \u001b[0msheet_name\u001b[0m\u001b[0;34m=\u001b[0m\u001b[0;32mNone\u001b[0m\u001b[0;34m)\u001b[0m\u001b[0;34m\u001b[0m\u001b[0;34m\u001b[0m\u001b[0m\n\u001b[0m\u001b[1;32m      3\u001b[0m \u001b[0mpole_mount_excel_file\u001b[0m \u001b[0;34m=\u001b[0m \u001b[0;34m'pole_mount_data.xls'\u001b[0m\u001b[0;34m\u001b[0m\u001b[0;34m\u001b[0m\u001b[0m\n\u001b[1;32m      4\u001b[0m \u001b[0mdf_mount\u001b[0m \u001b[0;34m=\u001b[0m \u001b[0mpd\u001b[0m\u001b[0;34m.\u001b[0m\u001b[0mread_excel\u001b[0m\u001b[0;34m(\u001b[0m\u001b[0mpole_mount_excel_file\u001b[0m\u001b[0;34m,\u001b[0m \u001b[0msheet_name\u001b[0m\u001b[0;34m=\u001b[0m\u001b[0;32mNone\u001b[0m\u001b[0;34m)\u001b[0m\u001b[0;34m\u001b[0m\u001b[0;34m\u001b[0m\u001b[0m\n",
      "\u001b[0;32m/usr/local/lib/python3.9/site-packages/pandas/util/_decorators.py\u001b[0m in \u001b[0;36mwrapper\u001b[0;34m(*args, **kwargs)\u001b[0m\n\u001b[1;32m    294\u001b[0m                 )\n\u001b[1;32m    295\u001b[0m                 \u001b[0mwarnings\u001b[0m\u001b[0;34m.\u001b[0m\u001b[0mwarn\u001b[0m\u001b[0;34m(\u001b[0m\u001b[0mmsg\u001b[0m\u001b[0;34m,\u001b[0m \u001b[0mFutureWarning\u001b[0m\u001b[0;34m,\u001b[0m \u001b[0mstacklevel\u001b[0m\u001b[0;34m=\u001b[0m\u001b[0mstacklevel\u001b[0m\u001b[0;34m)\u001b[0m\u001b[0;34m\u001b[0m\u001b[0;34m\u001b[0m\u001b[0m\n\u001b[0;32m--> 296\u001b[0;31m             \u001b[0;32mreturn\u001b[0m \u001b[0mfunc\u001b[0m\u001b[0;34m(\u001b[0m\u001b[0;34m*\u001b[0m\u001b[0margs\u001b[0m\u001b[0;34m,\u001b[0m \u001b[0;34m**\u001b[0m\u001b[0mkwargs\u001b[0m\u001b[0;34m)\u001b[0m\u001b[0;34m\u001b[0m\u001b[0;34m\u001b[0m\u001b[0m\n\u001b[0m\u001b[1;32m    297\u001b[0m \u001b[0;34m\u001b[0m\u001b[0m\n\u001b[1;32m    298\u001b[0m         \u001b[0;32mreturn\u001b[0m \u001b[0mwrapper\u001b[0m\u001b[0;34m\u001b[0m\u001b[0;34m\u001b[0m\u001b[0m\n",
      "\u001b[0;32m/usr/local/lib/python3.9/site-packages/pandas/io/excel/_base.py\u001b[0m in \u001b[0;36mread_excel\u001b[0;34m(io, sheet_name, header, names, index_col, usecols, squeeze, dtype, engine, converters, true_values, false_values, skiprows, nrows, na_values, keep_default_na, na_filter, verbose, parse_dates, date_parser, thousands, comment, skipfooter, convert_float, mangle_dupe_cols)\u001b[0m\n\u001b[1;32m    302\u001b[0m \u001b[0;34m\u001b[0m\u001b[0m\n\u001b[1;32m    303\u001b[0m     \u001b[0;32mif\u001b[0m \u001b[0;32mnot\u001b[0m \u001b[0misinstance\u001b[0m\u001b[0;34m(\u001b[0m\u001b[0mio\u001b[0m\u001b[0;34m,\u001b[0m \u001b[0mExcelFile\u001b[0m\u001b[0;34m)\u001b[0m\u001b[0;34m:\u001b[0m\u001b[0;34m\u001b[0m\u001b[0;34m\u001b[0m\u001b[0m\n\u001b[0;32m--> 304\u001b[0;31m         \u001b[0mio\u001b[0m \u001b[0;34m=\u001b[0m \u001b[0mExcelFile\u001b[0m\u001b[0;34m(\u001b[0m\u001b[0mio\u001b[0m\u001b[0;34m,\u001b[0m \u001b[0mengine\u001b[0m\u001b[0;34m=\u001b[0m\u001b[0mengine\u001b[0m\u001b[0;34m)\u001b[0m\u001b[0;34m\u001b[0m\u001b[0;34m\u001b[0m\u001b[0m\n\u001b[0m\u001b[1;32m    305\u001b[0m     \u001b[0;32melif\u001b[0m \u001b[0mengine\u001b[0m \u001b[0;32mand\u001b[0m \u001b[0mengine\u001b[0m \u001b[0;34m!=\u001b[0m \u001b[0mio\u001b[0m\u001b[0;34m.\u001b[0m\u001b[0mengine\u001b[0m\u001b[0;34m:\u001b[0m\u001b[0;34m\u001b[0m\u001b[0;34m\u001b[0m\u001b[0m\n\u001b[1;32m    306\u001b[0m         raise ValueError(\n",
      "\u001b[0;32m/usr/local/lib/python3.9/site-packages/pandas/io/excel/_base.py\u001b[0m in \u001b[0;36m__init__\u001b[0;34m(self, path_or_buffer, engine)\u001b[0m\n\u001b[1;32m    865\u001b[0m         \u001b[0mself\u001b[0m\u001b[0;34m.\u001b[0m\u001b[0m_io\u001b[0m \u001b[0;34m=\u001b[0m \u001b[0mstringify_path\u001b[0m\u001b[0;34m(\u001b[0m\u001b[0mpath_or_buffer\u001b[0m\u001b[0;34m)\u001b[0m\u001b[0;34m\u001b[0m\u001b[0;34m\u001b[0m\u001b[0m\n\u001b[1;32m    866\u001b[0m \u001b[0;34m\u001b[0m\u001b[0m\n\u001b[0;32m--> 867\u001b[0;31m         \u001b[0mself\u001b[0m\u001b[0;34m.\u001b[0m\u001b[0m_reader\u001b[0m \u001b[0;34m=\u001b[0m \u001b[0mself\u001b[0m\u001b[0;34m.\u001b[0m\u001b[0m_engines\u001b[0m\u001b[0;34m[\u001b[0m\u001b[0mengine\u001b[0m\u001b[0;34m]\u001b[0m\u001b[0;34m(\u001b[0m\u001b[0mself\u001b[0m\u001b[0;34m.\u001b[0m\u001b[0m_io\u001b[0m\u001b[0;34m)\u001b[0m\u001b[0;34m\u001b[0m\u001b[0;34m\u001b[0m\u001b[0m\n\u001b[0m\u001b[1;32m    868\u001b[0m \u001b[0;34m\u001b[0m\u001b[0m\n\u001b[1;32m    869\u001b[0m     \u001b[0;32mdef\u001b[0m \u001b[0m__fspath__\u001b[0m\u001b[0;34m(\u001b[0m\u001b[0mself\u001b[0m\u001b[0;34m)\u001b[0m\u001b[0;34m:\u001b[0m\u001b[0;34m\u001b[0m\u001b[0;34m\u001b[0m\u001b[0m\n",
      "\u001b[0;32m/usr/local/lib/python3.9/site-packages/pandas/io/excel/_xlrd.py\u001b[0m in \u001b[0;36m__init__\u001b[0;34m(self, filepath_or_buffer)\u001b[0m\n\u001b[1;32m     20\u001b[0m         \u001b[0merr_msg\u001b[0m \u001b[0;34m=\u001b[0m \u001b[0;34m\"Install xlrd >= 1.0.0 for Excel support\"\u001b[0m\u001b[0;34m\u001b[0m\u001b[0;34m\u001b[0m\u001b[0m\n\u001b[1;32m     21\u001b[0m         \u001b[0mimport_optional_dependency\u001b[0m\u001b[0;34m(\u001b[0m\u001b[0;34m\"xlrd\"\u001b[0m\u001b[0;34m,\u001b[0m \u001b[0mextra\u001b[0m\u001b[0;34m=\u001b[0m\u001b[0merr_msg\u001b[0m\u001b[0;34m)\u001b[0m\u001b[0;34m\u001b[0m\u001b[0;34m\u001b[0m\u001b[0m\n\u001b[0;32m---> 22\u001b[0;31m         \u001b[0msuper\u001b[0m\u001b[0;34m(\u001b[0m\u001b[0;34m)\u001b[0m\u001b[0;34m.\u001b[0m\u001b[0m__init__\u001b[0m\u001b[0;34m(\u001b[0m\u001b[0mfilepath_or_buffer\u001b[0m\u001b[0;34m)\u001b[0m\u001b[0;34m\u001b[0m\u001b[0;34m\u001b[0m\u001b[0m\n\u001b[0m\u001b[1;32m     23\u001b[0m \u001b[0;34m\u001b[0m\u001b[0m\n\u001b[1;32m     24\u001b[0m     \u001b[0;34m@\u001b[0m\u001b[0mproperty\u001b[0m\u001b[0;34m\u001b[0m\u001b[0;34m\u001b[0m\u001b[0m\n",
      "\u001b[0;32m/usr/local/lib/python3.9/site-packages/pandas/io/excel/_base.py\u001b[0m in \u001b[0;36m__init__\u001b[0;34m(self, filepath_or_buffer)\u001b[0m\n\u001b[1;32m    351\u001b[0m             \u001b[0mself\u001b[0m\u001b[0;34m.\u001b[0m\u001b[0mbook\u001b[0m \u001b[0;34m=\u001b[0m \u001b[0mself\u001b[0m\u001b[0;34m.\u001b[0m\u001b[0mload_workbook\u001b[0m\u001b[0;34m(\u001b[0m\u001b[0mfilepath_or_buffer\u001b[0m\u001b[0;34m)\u001b[0m\u001b[0;34m\u001b[0m\u001b[0;34m\u001b[0m\u001b[0m\n\u001b[1;32m    352\u001b[0m         \u001b[0;32melif\u001b[0m \u001b[0misinstance\u001b[0m\u001b[0;34m(\u001b[0m\u001b[0mfilepath_or_buffer\u001b[0m\u001b[0;34m,\u001b[0m \u001b[0mstr\u001b[0m\u001b[0;34m)\u001b[0m\u001b[0;34m:\u001b[0m\u001b[0;34m\u001b[0m\u001b[0;34m\u001b[0m\u001b[0m\n\u001b[0;32m--> 353\u001b[0;31m             \u001b[0mself\u001b[0m\u001b[0;34m.\u001b[0m\u001b[0mbook\u001b[0m \u001b[0;34m=\u001b[0m \u001b[0mself\u001b[0m\u001b[0;34m.\u001b[0m\u001b[0mload_workbook\u001b[0m\u001b[0;34m(\u001b[0m\u001b[0mfilepath_or_buffer\u001b[0m\u001b[0;34m)\u001b[0m\u001b[0;34m\u001b[0m\u001b[0;34m\u001b[0m\u001b[0m\n\u001b[0m\u001b[1;32m    354\u001b[0m         \u001b[0;32melif\u001b[0m \u001b[0misinstance\u001b[0m\u001b[0;34m(\u001b[0m\u001b[0mfilepath_or_buffer\u001b[0m\u001b[0;34m,\u001b[0m \u001b[0mbytes\u001b[0m\u001b[0;34m)\u001b[0m\u001b[0;34m:\u001b[0m\u001b[0;34m\u001b[0m\u001b[0;34m\u001b[0m\u001b[0m\n\u001b[1;32m    355\u001b[0m             \u001b[0mself\u001b[0m\u001b[0;34m.\u001b[0m\u001b[0mbook\u001b[0m \u001b[0;34m=\u001b[0m \u001b[0mself\u001b[0m\u001b[0;34m.\u001b[0m\u001b[0mload_workbook\u001b[0m\u001b[0;34m(\u001b[0m\u001b[0mBytesIO\u001b[0m\u001b[0;34m(\u001b[0m\u001b[0mfilepath_or_buffer\u001b[0m\u001b[0;34m)\u001b[0m\u001b[0;34m)\u001b[0m\u001b[0;34m\u001b[0m\u001b[0;34m\u001b[0m\u001b[0m\n",
      "\u001b[0;32m/usr/local/lib/python3.9/site-packages/pandas/io/excel/_xlrd.py\u001b[0m in \u001b[0;36mload_workbook\u001b[0;34m(self, filepath_or_buffer)\u001b[0m\n\u001b[1;32m     35\u001b[0m             \u001b[0;32mreturn\u001b[0m \u001b[0mopen_workbook\u001b[0m\u001b[0;34m(\u001b[0m\u001b[0mfile_contents\u001b[0m\u001b[0;34m=\u001b[0m\u001b[0mdata\u001b[0m\u001b[0;34m)\u001b[0m\u001b[0;34m\u001b[0m\u001b[0;34m\u001b[0m\u001b[0m\n\u001b[1;32m     36\u001b[0m         \u001b[0;32melse\u001b[0m\u001b[0;34m:\u001b[0m\u001b[0;34m\u001b[0m\u001b[0;34m\u001b[0m\u001b[0m\n\u001b[0;32m---> 37\u001b[0;31m             \u001b[0;32mreturn\u001b[0m \u001b[0mopen_workbook\u001b[0m\u001b[0;34m(\u001b[0m\u001b[0mfilepath_or_buffer\u001b[0m\u001b[0;34m)\u001b[0m\u001b[0;34m\u001b[0m\u001b[0;34m\u001b[0m\u001b[0m\n\u001b[0m\u001b[1;32m     38\u001b[0m \u001b[0;34m\u001b[0m\u001b[0m\n\u001b[1;32m     39\u001b[0m     \u001b[0;34m@\u001b[0m\u001b[0mproperty\u001b[0m\u001b[0;34m\u001b[0m\u001b[0;34m\u001b[0m\u001b[0m\n",
      "\u001b[0;32m/usr/local/lib/python3.9/site-packages/xlrd/__init__.py\u001b[0m in \u001b[0;36mopen_workbook\u001b[0;34m(filename, logfile, verbosity, use_mmap, file_contents, encoding_override, formatting_info, on_demand, ragged_rows, ignore_workbook_corruption)\u001b[0m\n\u001b[1;32m    164\u001b[0m     \"\"\"\n\u001b[1;32m    165\u001b[0m \u001b[0;34m\u001b[0m\u001b[0m\n\u001b[0;32m--> 166\u001b[0;31m     \u001b[0mfile_format\u001b[0m \u001b[0;34m=\u001b[0m \u001b[0minspect_format\u001b[0m\u001b[0;34m(\u001b[0m\u001b[0mfilename\u001b[0m\u001b[0;34m,\u001b[0m \u001b[0mfile_contents\u001b[0m\u001b[0;34m)\u001b[0m\u001b[0;34m\u001b[0m\u001b[0;34m\u001b[0m\u001b[0m\n\u001b[0m\u001b[1;32m    167\u001b[0m     \u001b[0;31m# We have to let unknown file formats pass through here, as some ancient\u001b[0m\u001b[0;34m\u001b[0m\u001b[0;34m\u001b[0m\u001b[0m\n\u001b[1;32m    168\u001b[0m     \u001b[0;31m# files that xlrd can parse don't start with the expected signature.\u001b[0m\u001b[0;34m\u001b[0m\u001b[0;34m\u001b[0m\u001b[0m\n",
      "\u001b[0;32m/usr/local/lib/python3.9/site-packages/xlrd/__init__.py\u001b[0m in \u001b[0;36minspect_format\u001b[0;34m(path, content)\u001b[0m\n\u001b[1;32m     58\u001b[0m     \u001b[0;32melse\u001b[0m\u001b[0;34m:\u001b[0m\u001b[0;34m\u001b[0m\u001b[0;34m\u001b[0m\u001b[0m\n\u001b[1;32m     59\u001b[0m         \u001b[0mpath\u001b[0m \u001b[0;34m=\u001b[0m \u001b[0mos\u001b[0m\u001b[0;34m.\u001b[0m\u001b[0mpath\u001b[0m\u001b[0;34m.\u001b[0m\u001b[0mexpanduser\u001b[0m\u001b[0;34m(\u001b[0m\u001b[0mpath\u001b[0m\u001b[0;34m)\u001b[0m\u001b[0;34m\u001b[0m\u001b[0;34m\u001b[0m\u001b[0m\n\u001b[0;32m---> 60\u001b[0;31m         \u001b[0;32mwith\u001b[0m \u001b[0mopen\u001b[0m\u001b[0;34m(\u001b[0m\u001b[0mpath\u001b[0m\u001b[0;34m,\u001b[0m \u001b[0;34m\"rb\"\u001b[0m\u001b[0;34m)\u001b[0m \u001b[0;32mas\u001b[0m \u001b[0mf\u001b[0m\u001b[0;34m:\u001b[0m\u001b[0;34m\u001b[0m\u001b[0;34m\u001b[0m\u001b[0m\n\u001b[0m\u001b[1;32m     61\u001b[0m             \u001b[0mpeek\u001b[0m \u001b[0;34m=\u001b[0m \u001b[0mf\u001b[0m\u001b[0;34m.\u001b[0m\u001b[0mread\u001b[0m\u001b[0;34m(\u001b[0m\u001b[0mPEEK_SIZE\u001b[0m\u001b[0;34m)\u001b[0m\u001b[0;34m\u001b[0m\u001b[0;34m\u001b[0m\u001b[0m\n\u001b[1;32m     62\u001b[0m \u001b[0;34m\u001b[0m\u001b[0m\n",
      "\u001b[0;31mFileNotFoundError\u001b[0m: [Errno 2] No such file or directory: 'example_for_gridwere.xls'"
     ]
    }
   ],
   "source": [
    "pole_excel_file = 'example_for_gridwere.xls'\n",
    "df = pd.read_excel(pole_excel_file, sheet_name=None)\n",
    "pole_mount_excel_file = 'pole_mount_data.xls'\n",
    "df_mount = pd.read_excel(pole_mount_excel_file, sheet_name=None)"
   ]
  },
  {
   "cell_type": "code",
   "execution_count": 223,
   "id": "a9079955",
   "metadata": {},
   "outputs": [
    {
     "name": "stdout",
     "output_type": "stream",
     "text": [
      "{'equipment_1': {'equipment_type': 'regulator', 'parent': 'pole_1', 'mount_height': 37.5, 'equipment_diameter': 24, 'equipment_height': 5}, 'equipment_2': {'equipment_type': 'transformer', 'parent': 'pole_1', 'mount_height': 52.5, 'equipment_diameter': 23, 'equipment_height': 5}, 'equipment_3': {'equipment_type': 'regulator', 'parent': 'pole_3', 'mount_height': 11.5, 'equipment_diameter': 22, 'equipment_height': 5}, 'equipment_4': {'equipment_type': 'regulator', 'parent': 'pole_4', 'mount_height': 16.5, 'equipment_diameter': 21, 'equipment_height': 5}, 'equipment_5': {'equipment_type': 'regulator', 'parent': 'pole_5', 'mount_height': 21.5, 'equipment_diameter': 20, 'equipment_height': 5}, 'equipment_6': {'equipment_type': 'regulator', 'parent': 'pole_5', 'mount_height': 26.5, 'equipment_diameter': 19, 'equipment_height': 5}, 'equipment_7': {'equipment_type': 'regulator', 'parent': 'pole_7', 'mount_height': 31.0, 'equipment_diameter': 18, 'equipment_height': 5}, 'equipment_8': {'equipment_type': 'regulator', 'parent': 'pole_8', 'mount_height': 35.5, 'equipment_diameter': 17, 'equipment_height': 5}, 'equipment_9': {'equipment_type': 'regulator', 'parent': 'pole_9', 'mount_height': 40.0, 'equipment_diameter': 16, 'equipment_height': 5}, 'equipment_10': {'equipment_type': 'regulator', 'parent': 'pole_10', 'mount_height': 44.0, 'equipment_diameter': 15, 'equipment_height': 5}, 'equipment_11': {'equipment_type': 'regulator', 'parent': 'pole_11', 'mount_height': 48.0, 'equipment_diameter': 14, 'equipment_height': 5}}\n"
     ]
    }
   ],
   "source": [
    "# creat a dictionary for pole mount data\n",
    "df_mount_data = df_mount['pole mount data'].copy()\n",
    "mount_data_dicts = {}\n",
    "for mount_index in range(len(df_mount_data)):\n",
    "    mount_data = df_mount_data.iloc[mount_index]\n",
    "    if mount_data.loc['equipment_id'] not in mount_data_dicts.keys():\n",
    "        mount_data_dict = {}\n",
    "        for data_column in mount_data.index:\n",
    "            if data_column != 'equipment_id':\n",
    "                mount_data_dict[data_column] = mount_data.loc[data_column]\n",
    "        mount_data_dicts[mount_data.loc['equipment_id']] = mount_data_dict\n",
    "# print(mount_data_dicts)"
   ]
  },
  {
   "cell_type": "code",
   "execution_count": 188,
   "id": "d737d2cb",
   "metadata": {},
   "outputs": [],
   "source": [
    "# creat a dictionary for pole data\n",
    "df_pole_data = df['pole data'].copy()\n",
    "pole_data_dicts = {}\n",
    "for pole_index in range(len(df_pole_data)):\n",
    "    pole_data = df_pole_data.iloc[pole_index]\n",
    "    if pole_data.loc['pole_id'] not in pole_data_dicts.keys():\n",
    "        pole_data_dict = {}\n",
    "        for data_column in pole_data.index:\n",
    "            if data_column != 'pole_id':\n",
    "                pole_data_dict[data_column] = pole_data.loc[data_column]\n",
    "        pole_data_dicts[pole_data.loc['pole_id']] = pole_data_dict\n",
    "# print(pole_data_dicts)"
   ]
  },
  {
   "cell_type": "code",
   "execution_count": 189,
   "id": "26f82f61",
   "metadata": {},
   "outputs": [],
   "source": [
    "# creat a dictionary for pole connections\n",
    "df_pole_section = df['pole section'].copy()\n",
    "pole_section_dicts = {}\n",
    "for section_index in range(len(df_pole_section)):\n",
    "    pole_section = df_pole_section.iloc[section_index]\n",
    "    if pole_section.loc['section_id'] not in pole_section_dicts.keys():\n",
    "        pole_section_dict = {}\n",
    "        for data_column in pole_section.index:\n",
    "            if data_column != 'section_id':\n",
    "                pole_section_dict[data_column] = pole_section.loc[data_column]\n",
    "        pole_section_dicts[pole_section.loc['section_id']] = pole_section_dict\n",
    "# print(pole_section_dicts)"
   ]
  },
  {
   "cell_type": "code",
   "execution_count": 211,
   "id": "d55a2366",
   "metadata": {},
   "outputs": [],
   "source": [
    "df_pole_config = df['pole config'].copy()\n",
    "pole_config_dicts = {}\n",
    "for pole_config_index in range(len(df_pole_config)):\n",
    "    pole_config = df_pole_config.iloc[pole_config_index]\n",
    "    if pole_config.loc['config_id'] not in pole_config_dicts.keys():\n",
    "        pole_config_dict = {}\n",
    "        for data_column in pole_config.index:\n",
    "            if data_column != 'config_id':\n",
    "                pole_config_dict[data_column] = pole_config.loc[data_column]\n",
    "        pole_config_dicts[pole_config.loc['config_id']] = pole_config_dict\n",
    "# print(pole_config_dicts)"
   ]
  },
  {
   "cell_type": "code",
   "execution_count": 191,
   "id": "d6cd32c2",
   "metadata": {},
   "outputs": [],
   "source": [
    "df_cable_config = df['cable config'].copy()\n",
    "cable_config_dicts = {}\n",
    "for cable_config_index in range(len(df_cable_config)):\n",
    "    cable_config = df_cable_config.iloc[cable_config_index]\n",
    "    if cable_config.loc['config_id'] not in cable_config_dicts.keys():\n",
    "        cable_config_dict = {}\n",
    "        for data_column in cable_config.index:\n",
    "            if data_column != 'config_id':\n",
    "                cable_config_dict[data_column] = cable_config.loc[data_column]\n",
    "        cable_config_dicts[cable_config.loc['config_id']] = cable_config_dict\n",
    "# print(cable_config_dicts)"
   ]
  },
  {
   "cell_type": "code",
   "execution_count": 192,
   "id": "7cfb07c7",
   "metadata": {},
   "outputs": [],
   "source": [
    "df_weather_data = df['weather player'].copy()\n",
    "time_stamps = []\n",
    "wind_speeds = []\n",
    "wind_directions = []\n",
    "ambient_temps = []\n",
    "wind_gusts = []\n",
    "GHIs = []\n",
    "default_wind_speed = 0\n",
    "for weather_timesttamp in range(len(df_weather_data)):\n",
    "    date = df_weather_data.iloc[weather_timesttamp]['time']\n",
    "    if pd.isnull(date):\n",
    "        raise Exception(f'column {weather_timesttamp}: time stamp is not set up')\n",
    "    date = date - pd.Timestamp(\"1970-01-01\")\n",
    "    time_stamps.append(date.total_seconds())\n",
    "    if pd.isnull(df_weather_data.iloc[weather_timesttamp]['wind_speed']) \\\n",
    "       or df_weather_data.iloc[weather_timesttamp]['wind_speed'] < 0:\n",
    "        print(f'weather data does not include wind_speed at {date}, using local default_wind_speed')\n",
    "        wind_speeds.append(0)\n",
    "    else:\n",
    "        wind_speeds.append(df_weather_data.iloc[weather_timesttamp]['wind_speed'])\n",
    "    wind_directions.append(df_weather_data.iloc[weather_timesttamp]['wind_direction'])\n",
    "    ambient_temps.append(df_weather_data.iloc[weather_timesttamp]['temperature'])\n",
    "    wind_gusts.append(df_weather_data.iloc[weather_timesttamp]['wind_gusts'])\n",
    "    GHIs.append(df_weather_data.iloc[weather_timesttamp]['global_horizontal_irradiance'])\n"
   ]
  },
  {
   "cell_type": "code",
   "execution_count": 235,
   "id": "10984051",
   "metadata": {},
   "outputs": [],
   "source": [
    "def equipment_moment_cals(pole_key,wind_presure,mount_data,overload_factor=1.75):\n",
    "    equipment_moment = 0.0\n",
    "    for equipment in mount_data.keys():\n",
    "        if mount_data[equipment]['parent'] == pole_key:\n",
    "            equipment_moment += wind_presure*mount_data[equipment]['mount_height']\\\n",
    "            *mount_data[equipment]['equipment_diameter']*mount_data[equipment]['equipment_height']*overload_factor/12\n",
    "    return equipment_moment"
   ]
  },
  {
   "cell_type": "code",
   "execution_count": 266,
   "id": "ead13a4e",
   "metadata": {},
   "outputs": [],
   "source": [
    "def get_wind_span(pos1, pos2):\n",
    "    # TODO, only use the distance to represent the wind span for now\n",
    "    lat1 = pos1[0]*pi/180\n",
    "    lat2 = pos2[0]*pi/180\n",
    "    lon1 = pos1[1]*pi/180\n",
    "    lon2 = pos2[1]*pi/180\n",
    "    a = sin((lat2-lat1)/2)**2+cos(lat1)*cos(lat2)*sin((lon2-lon1)/2)**2\n",
    "    return 6371e3*(2*atan2(np.sqrt(a),sqrt(1-a)))"
   ]
  },
  {
   "cell_type": "code",
   "execution_count": 281,
   "id": "bacd08d6",
   "metadata": {},
   "outputs": [
    {
     "name": "stdout",
     "output_type": "stream",
     "text": [
      "2009\n",
      "{'01': 512, '03': 182, '04': 41, '05': 35, '06': 46, '07': 22, '08': 22, '09': 31, '10': 54, '11': 221, '12': 20, '13': 38, '14': 27, '16': 8, '17': 72, '18': 28, '19': 20, '20': 15, '23': 18, '24': 17, '25': 26, '26': 6, '27': 18, '28': 16, '29': 11, '30': 159, '31': 61, '32': 76, '33': 16, '35': 62, '37': 17, '38': 43, '39': 46, '40': 16, '41': 7}\n"
     ]
    }
   ],
   "source": [
    "feeder_file_path = '/Users/fxie2/Downloads/NG_to_Hitachi/Final List of Feeders.csv'\n",
    "feeder_data = pd.read_csv(feeder_file_path)\n",
    "# print(feeder_data)\n",
    "summary = {}\n",
    "count = 0\n",
    "for index in range(len(feeder_data)):\n",
    "    feeder_strings = feeder_data.iloc[index].tolist()[0].split('_')\n",
    "    if str(feeder_strings[1]) not in summary.keys():\n",
    "        summary[str(feeder_strings[1])] = 0\n",
    "    summary[str(feeder_strings[1])] += 1\n",
    "    count += 1\n",
    "print(count)\n",
    "print(summary)"
   ]
  },
  {
   "cell_type": "code",
   "execution_count": 298,
   "id": "48e4229a",
   "metadata": {},
   "outputs": [],
   "source": [
    "def wire_moment_cals(pole_key,pole_height,wind_presure,wind_direction,pole_data,pole_sections,pole_config,cable_config,ice_thickness):\n",
    "    wire_moment = 0.0\n",
    "    wire_moment_x = 0.0\n",
    "    wire_moment_y = 0.0\n",
    "    wire_moment_z = 0.0\n",
    "    overload_factor_wire=1.65\n",
    "    overload_factor_wind=1.75\n",
    "    if pole_data['tilt_angle'] != 0:\n",
    "        tilt_direction = pole_data['tilt_direction']\n",
    "    else:\n",
    "        tilt_direction = 0\n",
    "    for section_index in range(len(pole_sections)):\n",
    "        print(section_index)\n",
    "        print(pole_sections)\n",
    "        pole_section = pole_sections.iloc[section_index]\n",
    "        print(pole_section)\n",
    "        printt()\n",
    "        if pole_section['from'] == pole_key or pole_section['to'] == pole_key:\n",
    "            cable_type_id = pole_section[section_id]['cable_type']\n",
    "            cable_diameter = cable_config[cable_type_id]['diameter']*39.3701 # 39.3701 account for m to inches conversion\n",
    "            if pole_section[section_id]['from'] == pole_key:\n",
    "                p0 = [pole_data[pole_section[section_id]['from']]['latitude'],pole_data[pole_section[section_id]['from']]['longitude']]\n",
    "                p1 = [pole_data[pole_section[section_id]['to']]['latitude'],pole_data[pole_section[section_id]['to']]['longitude']]\n",
    "                pole_cable_angle = pole_section[section_id]['from_pole_line_angle']\n",
    "            else:\n",
    "                p1 = [pole_data[pole_section[section_id]['from']]['latitude'],pole_data[pole_section[section_id]['from']]['longitude']]\n",
    "                p0 = [pole_data[pole_section[section_id]['to']]['latitude'],pole_data[pole_section[section_id]['to']]['longitude']]\n",
    "                pole_cable_angle = pole_section[section_id]['to_pole_line_angle']\n",
    "            wind_span = get_wind_span(p0,p1)\n",
    "            cable_height = pole_config['conductor_attach_height']\n",
    "            section_heading = 180*atan2(p1[1]-p0[1],p1[0]-p0[0])/np.pi\n",
    "            angle_wind_section = abs(wind_direction - section_heading)*pi/180\n",
    "            cable_transverse_load_wind = wind_presure*sin(angle_wind_section)*wind_span*(cable_diameter+2*ice_thickness)/12 # cable wind load\n",
    "            try:\n",
    "                cable_transverse_load_tension = pole_section[section_id]['tension']\n",
    "            except:\n",
    "                print(f'tension is calculated with cable information and powerflow result')\n",
    "                # TODO\n",
    "            cable_load = cable_transverse_load_wind*overload_factor_wind + cable_transverse_load_tension*overload_factor_wire\n",
    "            r_z = pole_height*cos(100*pole_data['tilt_angle']/pi)\n",
    "            r_x = pole_height*sin(100*pole_data['tilt_angle']/pi)*cos(pi*tilt_direction/180)\n",
    "            r_y = pole_height*sin(100*pole_data['tilt_angle']/pi)*sin(pi*tilt_direction/180)\n",
    "            cable_load_z = -cable_load*cos(pi*pole_cable_angle/pi)\n",
    "            cable_load_x = cable_load*sin(pi*pole_cable_angle/pi)*cos(pi*section_heading/180)\n",
    "            cable_load_y = cable_load*sin(pi*pole_cable_angle/pi)*sin(pi*section_heading/180)\n",
    "            wire_moment_x += r_y*cable_load_z-r_z*cable_load_y\n",
    "            wire_moment_y += r_y*cable_load_z-r_z*cable_load_y\n",
    "            wire_moment_z += r_y*cable_load_z-r_z*cable_load_y\n",
    "\n",
    "    return [wire_moment_x, wire_moment_y, wire_moment_z]"
   ]
  },
  {
   "cell_type": "code",
   "execution_count": 299,
   "id": "abe664fb",
   "metadata": {},
   "outputs": [
    {
     "name": "stdout",
     "output_type": "stream",
     "text": [
      "-101.30993247402021\n",
      "-5\n",
      "116.30993247402021\n"
     ]
    },
    {
     "data": {
      "image/png": "[encoded data removed]",
      "text/plain": [
       "<Figure size 432x288 with 1 Axes>"
      ]
     },
     "metadata": {
      "needs_background": "light"
     },
     "output_type": "display_data"
    }
   ],
   "source": [
    "p0 = [37.41504514,-122.2056472]\n",
    "p1 = [37.41469802,-122.2084875]\n",
    "p0 = [0,0]\n",
    "p1 = [-1,-5]\n",
    "section_heading = 180*atan2(p1[1]-p0[1],p1[0]-p0[0])/np.pi\n",
    "print(section_heading)\n",
    "print(p1[1]-p0[1])\n",
    "\n",
    "wind_direction = 15\n",
    "angle_wind_section = (wind_direction - section_heading)\n",
    "print(angle_wind_section)\n",
    "x = [p0[0],p1[0]]\n",
    "y = [p0[1],p1[1]]\n",
    "plt.text(x[0],y[0],'p0')\n",
    "plt.text(x[1],y[1],'p1')\n",
    "plt.plot(x,y)\n",
    "plt.show()"
   ]
  },
  {
   "cell_type": "code",
   "execution_count": 301,
   "id": "3035dbc9",
   "metadata": {
    "scrolled": true
   },
   "outputs": [
    {
     "name": "stdout",
     "output_type": "stream",
     "text": [
      "0\n",
      "{'section_1': {'from': 'pole 1', 'to': 'pole 2', 'powerflow': 10000, 'cable_type': 'TACSR/AC 610mm^2', 'tensions': 21600}, 'section_2': {'from': 'pole 2', 'to': 'pole 3', 'powerflow': 10000, 'cable_type': 'TACSR/AC 610mm^3', 'tensions': 21600}, 'section_3': {'from': 'pole 3', 'to': 'pole 4', 'powerflow': 10000, 'cable_type': 'TACSR/AC 610mm^4', 'tensions': 21600}, 'section_4': {'from': 'pole 4', 'to': 'pole 5', 'powerflow': 10000, 'cable_type': 'TACSR/AC 610mm^5', 'tensions': 21600}, 'section_5': {'from': 'pole 5', 'to': 'pole 6', 'powerflow': 10000, 'cable_type': 'TACSR/AC 610mm^6', 'tensions': 21600}, 'section_6': {'from': 'pole 6', 'to': 'pole 7', 'powerflow': 10000, 'cable_type': 'TACSR/AC 610mm^7', 'tensions': 21600}, 'section_7': {'from': 'pole 7', 'to': 'pole 8', 'powerflow': 10000, 'cable_type': 'TACSR/AC 610mm^8', 'tensions': 21600}, 'section_8': {'from': 'pole 8', 'to': 'pole 9', 'powerflow': 10000, 'cable_type': 'TACSR/AC 610mm^9', 'tensions': 21600}, 'section_9': {'from': 'pole 9', 'to': 'pole 10', 'powerflow': 10000, 'cable_type': 'TACSR/AC 610mm^10', 'tensions': 21600}, 'section_10': {'from': 'pole 10', 'to': 'pole 11', 'powerflow': 10000, 'cable_type': 'TACSR/AC 610mm^11', 'tensions': 21600}, 'section_11': {'from': 'pole 11', 'to': 'pole 12', 'powerflow': 10000, 'cable_type': 'TACSR/AC 610mm^12', 'tensions': 21600}, 'section_12': {'from': 'pole 12', 'to': 'pole 13', 'powerflow': 10000, 'cable_type': 'TACSR/AC 610mm^13', 'tensions': 21600}, 'section_13': {'from': 'pole 13', 'to': 'pole 14', 'powerflow': 10000, 'cable_type': 'TACSR/AC 610mm^14', 'tensions': 21600}, 'section_14': {'from': 'pole 14', 'to': 'pole 15', 'powerflow': 10000, 'cable_type': 'TACSR/AC 610mm^15', 'tensions': 21600}, 'section_15': {'from': 'pole 15', 'to': 'pole 16', 'powerflow': 10000, 'cable_type': 'TACSR/AC 610mm^16', 'tensions': 21600}, 'section_16': {'from': 'pole 16', 'to': 'pole 17', 'powerflow': 10000, 'cable_type': 'TACSR/AC 610mm^17', 'tensions': 21600}, 'section_17': {'from': 'pole 17', 'to': 'pole 18', 'powerflow': 10000, 'cable_type': 'TACSR/AC 610mm^18', 'tensions': 21600}, 'section_18': {'from': 'pole 18', 'to': 'pole 19', 'powerflow': 10000, 'cable_type': 'TACSR/AC 610mm^19', 'tensions': 21600}, 'section_19': {'from': 'pole 19', 'to': 'pole 20', 'powerflow': 10000, 'cable_type': 'TACSR/AC 610mm^20', 'tensions': 21600}, 'section_20': {'from': 'pole 20', 'to': 'pole 21', 'powerflow': 10000, 'cable_type': 'TACSR/AC 610mm^21', 'tensions': 21600}, 'section_21': {'from': 'pole 21', 'to': 'pole 22', 'powerflow': 10000, 'cable_type': 'TACSR/AC 610mm^22', 'tensions': 21600}, 'section_22': {'from': 'pole 22', 'to': 'pole 23', 'powerflow': 10000, 'cable_type': 'TACSR/AC 610mm^23', 'tensions': 21600}, 'section_23': {'from': 'pole 23', 'to': 'pole 24', 'powerflow': 10000, 'cable_type': 'TACSR/AC 610mm^24', 'tensions': 21600}, 'section_24': {'from': 'pole 24', 'to': 'pole 25', 'powerflow': 10000, 'cable_type': 'TACSR/AC 610mm^25', 'tensions': 21600}, 'section_25': {'from': 'pole 25', 'to': 'pole 26', 'powerflow': 10000, 'cable_type': 'TACSR/AC 610mm^26', 'tensions': 21600}, 'section_26': {'from': 'pole 26', 'to': 'pole 27', 'powerflow': 10000, 'cable_type': 'TACSR/AC 610mm^27', 'tensions': 21600}, 'section_27': {'from': 'pole 27', 'to': 'pole 28', 'powerflow': 10000, 'cable_type': 'TACSR/AC 610mm^28', 'tensions': 21600}, 'section_28': {'from': 'pole 28', 'to': 'pole 29', 'powerflow': 10000, 'cable_type': 'TACSR/AC 610mm^29', 'tensions': 21600}, 'section_29': {'from': 'pole 29', 'to': 'pole 30', 'powerflow': 10000, 'cable_type': 'TACSR/AC 610mm^30', 'tensions': 21600}, 'section_30': {'from': 'pole 30', 'to': 'pole 31', 'powerflow': 10000, 'cable_type': 'TACSR/AC 610mm^31', 'tensions': 21600}, 'section_31': {'from': 'pole 31', 'to': 'pole 32', 'powerflow': 10000, 'cable_type': 'TACSR/AC 610mm^32', 'tensions': 21600}, 'section_32': {'from': 'pole 32', 'to': 'pole 33', 'powerflow': 10000, 'cable_type': 'TACSR/AC 610mm^33', 'tensions': 21600}, 'section_33': {'from': 'pole 33', 'to': 'pole 34', 'powerflow': 10000, 'cable_type': 'TACSR/AC 610mm^34', 'tensions': 21600}, 'section_34': {'from': 'pole 34', 'to': 'pole 35', 'powerflow': 10000, 'cable_type': 'TACSR/AC 610mm^35', 'tensions': 21600}, 'section_35': {'from': 'pole 35', 'to': 'pole 36', 'powerflow': 10000, 'cable_type': 'TACSR/AC 610mm^36', 'tensions': 21600}, 'section_36': {'from': 'pole 36', 'to': 'pole 37', 'powerflow': 10000, 'cable_type': 'TACSR/AC 610mm^37', 'tensions': 21600}}\n"
     ]
    },
    {
     "ename": "AttributeError",
     "evalue": "'dict' object has no attribute 'iloc'",
     "output_type": "error",
     "traceback": [
      "\u001b[0;31m---------------------------------------------------------------------------\u001b[0m",
      "\u001b[0;31mAttributeError\u001b[0m                            Traceback (most recent call last)",
      "\u001b[0;32m<ipython-input-301-374c1ff15c16>\u001b[0m in \u001b[0;36m<module>\u001b[0;34m\u001b[0m\n\u001b[1;32m     80\u001b[0m             \u001b[0mequipment_moment_unit_wind\u001b[0m \u001b[0;34m=\u001b[0m \u001b[0mequipment_moment_cals\u001b[0m\u001b[0;34m(\u001b[0m\u001b[0mpole_key\u001b[0m\u001b[0;34m,\u001b[0m\u001b[0;36m1\u001b[0m\u001b[0;34m,\u001b[0m\u001b[0mmount_data_dicts\u001b[0m\u001b[0;34m,\u001b[0m\u001b[0mpole_config_data\u001b[0m\u001b[0;34m[\u001b[0m\u001b[0;34m'overload_factor_transverse_general'\u001b[0m\u001b[0;34m]\u001b[0m\u001b[0;34m)\u001b[0m\u001b[0;34m\u001b[0m\u001b[0;34m\u001b[0m\u001b[0m\n\u001b[1;32m     81\u001b[0m             \u001b[0;31m# print(f\"{pole_key}: equipment_moment_unit_wind = {equipment_moment_unit_wind} ft.lb.s/m\")\u001b[0m\u001b[0;34m\u001b[0m\u001b[0;34m\u001b[0m\u001b[0m\n\u001b[0;32m---> 82\u001b[0;31m             \u001b[0mwire_moment_unit_wind\u001b[0m \u001b[0;34m=\u001b[0m \u001b[0mwire_moment_cals\u001b[0m\u001b[0;34m(\u001b[0m\u001b[0mpole_key\u001b[0m\u001b[0;34m,\u001b[0m\u001b[0mpole_height\u001b[0m\u001b[0;34m,\u001b[0m\u001b[0mwind_presure\u001b[0m\u001b[0;34m,\u001b[0m\u001b[0mwind_direction\u001b[0m\u001b[0;34m,\u001b[0m\u001b[0mpole_data\u001b[0m\u001b[0;34m,\u001b[0m\u001b[0mpole_section_dicts\u001b[0m\u001b[0;34m,\u001b[0m\u001b[0mpole_config\u001b[0m\u001b[0;34m,\u001b[0m\u001b[0mcable_config\u001b[0m\u001b[0;34m,\u001b[0m\u001b[0;36m0\u001b[0m\u001b[0;34m)\u001b[0m\u001b[0;34m\u001b[0m\u001b[0;34m\u001b[0m\u001b[0m\n\u001b[0m\u001b[1;32m     83\u001b[0m             \u001b[0mprint\u001b[0m\u001b[0;34m(\u001b[0m\u001b[0mwire_moment_unit_wind\u001b[0m\u001b[0;34m)\u001b[0m\u001b[0;34m\u001b[0m\u001b[0;34m\u001b[0m\u001b[0m\n\u001b[1;32m     84\u001b[0m \u001b[0;34m\u001b[0m\u001b[0m\n",
      "\u001b[0;32m<ipython-input-298-6efdebcc37d1>\u001b[0m in \u001b[0;36mwire_moment_cals\u001b[0;34m(pole_key, pole_height, wind_presure, wind_direction, pole_data, pole_sections, pole_config, cable_config, ice_thickness)\u001b[0m\n\u001b[1;32m     13\u001b[0m         \u001b[0mprint\u001b[0m\u001b[0;34m(\u001b[0m\u001b[0msection_index\u001b[0m\u001b[0;34m)\u001b[0m\u001b[0;34m\u001b[0m\u001b[0;34m\u001b[0m\u001b[0m\n\u001b[1;32m     14\u001b[0m         \u001b[0mprint\u001b[0m\u001b[0;34m(\u001b[0m\u001b[0mpole_sections\u001b[0m\u001b[0;34m)\u001b[0m\u001b[0;34m\u001b[0m\u001b[0;34m\u001b[0m\u001b[0m\n\u001b[0;32m---> 15\u001b[0;31m         \u001b[0mpole_section\u001b[0m \u001b[0;34m=\u001b[0m \u001b[0mpole_sections\u001b[0m\u001b[0;34m.\u001b[0m\u001b[0miloc\u001b[0m\u001b[0;34m[\u001b[0m\u001b[0msection_index\u001b[0m\u001b[0;34m]\u001b[0m\u001b[0;34m\u001b[0m\u001b[0;34m\u001b[0m\u001b[0m\n\u001b[0m\u001b[1;32m     16\u001b[0m         \u001b[0mprint\u001b[0m\u001b[0;34m(\u001b[0m\u001b[0mpole_section\u001b[0m\u001b[0;34m)\u001b[0m\u001b[0;34m\u001b[0m\u001b[0;34m\u001b[0m\u001b[0m\n\u001b[1;32m     17\u001b[0m         \u001b[0mprintt\u001b[0m\u001b[0;34m(\u001b[0m\u001b[0;34m)\u001b[0m\u001b[0;34m\u001b[0m\u001b[0;34m\u001b[0m\u001b[0m\n",
      "\u001b[0;31mAttributeError\u001b[0m: 'dict' object has no attribute 'iloc'"
     ]
    }
   ],
   "source": [
    "pole_analysis_dict = {}\n",
    "PS_OK = 1\n",
    "PS_FAILED = 0\n",
    "default_repair_time = 8\n",
    "last_wind_speed = 0.0\n",
    "for pole_key in pole_data_dicts.keys():\n",
    "    pole_analysis_dict[pole_key] = {\n",
    "        'wire_tention_on_pole' : [],\n",
    "        'wind_moment_on_pole' : [],\n",
    "        'total_moment_on_pole' : [],\n",
    "        'pole_susceptibility' : [],\n",
    "        'pole_stress' : [],\n",
    "        'pole_status' : PS_OK,\n",
    "        'pole_age' : [],\n",
    "        'pole_current_hollow_diameter' : [],\n",
    "        'critical_wind_speed' : 0.0,\n",
    "        'pole_down_time' : 0.0,\n",
    "        'pole_resisting_moment' : []\n",
    "    }\n",
    "\n",
    "# pole init\n",
    "if len(pole_config_dicts.keys()) == 0:\n",
    "    raise Exception(f'pole configuration is not set')\n",
    "\n",
    "for pole_config_index in pole_config_dicts.keys():\n",
    "    if np.isnan(pole_config_dicts[pole_config_index]['repair_time']) or pole_config_dicts[pole_config_index]['repair_time'] <= 0:\n",
    "        print(f'{pole_config_index}: repair time should be position and default_repair_time will be used')\n",
    "        pole_config_dicts[pole_config_index]['repair_time'] = default_repair_time\n",
    "\n",
    "# pole precommit\n",
    "# for timestamp_index in range(len(time_stamps)):\n",
    "for timestamp_index in range(2):\n",
    "    wind_speed = wind_speeds[timestamp_index]\n",
    "    for pole_key in pole_data_dicts.keys():\n",
    "        pole_data = pole_data_dicts[pole_key]\n",
    "        pole_config_id = pole_data['config']\n",
    "        pole_config_data = pole_config_dicts[pole_config_id]\n",
    "        t0 = time_stamps[timestamp_index]\n",
    "        # effective pole height, for this example, unit in ft\n",
    "        try:\n",
    "            pole_height = pole_config_data['pole_length']-pole_config_data['pole_depth']\\\n",
    "                          -pole_data_dicts[pole_key]['guy_height']\n",
    "        except:\n",
    "            raise Exception(f'pole height error for {pole_key}')\n",
    "        pole_t0_year = 1970 + int(t0/86400/365.24)\n",
    "        age = pole_t0_year-pole_data_dicts[pole_key]['install_year']\n",
    "        pole_analysis_dict[pole_key]['pole_age'].append(age)\n",
    "        pole_ground_diameter = pole_config_data['ground_diameter'] - pole_height\\\n",
    "                               /(pole_config_data['pole_length']-pole_config_data['pole_depth'])\\\n",
    "                               *(pole_config_data['ground_diameter']-pole_config_data['top_diameter'])\n",
    "        pole_top_diameter = pole_config_data['top_diameter']\n",
    "        if age > 0 and pole_config_data['degradation_rate'] > 0:\n",
    "            current_hollow_diameter = 2.0 * age * pole_config_data['degradation_rate'] * pole_ground_diameter\n",
    "        else:\n",
    "            current_hollow_diameter  = 0\n",
    "        resisting_moment = 0.008186 * pole_config_data['strength_factor_250b_wood'] * pole_config_data['fiber_strength'] * (pole_ground_diameter**3 - current_hollow_diameter**3)\n",
    "        if resisting_moment < 0:\n",
    "            print('pole has degraded past point of static failure')\n",
    "            resisting_moment = 0\n",
    "        pole_analysis_dict[pole_key]['pole_resisting_moment'].append(resisting_moment)\n",
    "        # print(f'{pole_key}: resisting_moment = {resisting_moment} ft*lb at {time_stamps[timestamp_index]}')\n",
    "        if (pole_analysis_dict[pole_key]['pole_status'] == PS_FAILED) and ((t0 - pole_analysis_dict[pole_key]['pole_down_time'])/3600.0 > pole_config_data['repair_time']):\n",
    "            print('pole repair time has arrived')\n",
    "            pole_analysis_dict[pole_key]['pole_status'] = PS_OK\n",
    "            pole_analysis_dict[pole_key]['tilt_angle'] = 0.0 \n",
    "            pole_analysis_dict[pole_key]['tilt_direction'] = 0.0\n",
    "            pole_analysis_dict[pole_key]['install_year'] = 1970 + (t0/86400/365.24)\n",
    "        elif pole_analysis_dict[pole_key]['pole_status'] == PS_OK and (last_wind_speed != wind_speed or pole_analysis_dict[pole_key]['critical_wind_speed'] == 0.0):\n",
    "            if pole_data['tilt_angle'] > 0.0:\n",
    "                top_diameter_ft = pole_top_diameter/12\n",
    "                ground_diameter_ft = pole_ground_diameter/12\n",
    "                pole_moment_tilt = 0.125*pole_config_data['material_density']*np.pi*pole_height*pole_height\\\n",
    "                                    *(((top_diameter_ft+ground_diameter_ft)**2)/6+top_diameter_ft*top_diameter_ft/3)\\\n",
    "                                    *sin(pi*pole_data['tilt_angle']/180)\n",
    "                # print(f'{pole_key}: pole_moment_tilt = {pole_moment_tilt} ft*lb')\n",
    "            wind_presure = 0.00256 * 2.24 * (wind_speed) * (wind_speed) # 2.24 account for m/s to mph conversion\n",
    "            # print(f\"wind_pressure = {wind_presure} psi\")\n",
    "            pole_moment_unit_wind = pole_height*pole_height * (2*top_diameter_ft+ground_diameter_ft)/6 * pole_config_data['overload_factor_transverse_general']\n",
    "            # print(f\"{pole_key}: pole_moment_unit_wind = {pole_moment_unit_wind} ft.lb.s/m\")\n",
    "            equipment_moment_unit_wind = equipment_moment_cals(pole_key,1,mount_data_dicts,pole_config_data['overload_factor_transverse_general'])\n",
    "            # print(f\"{pole_key}: equipment_moment_unit_wind = {equipment_moment_unit_wind} ft.lb.s/m\")\n",
    "            wire_moment_unit_wind = wire_moment_cals(pole_key,pole_height,wind_presure,wind_direction,pole_data,pole_section_dicts,pole_config,cable_config,0)\n",
    "            print(wire_moment_unit_wind)\n",
    "            \n",
    "# print(pole_analysis_dict['pole_1']['pole_resisting_moment'])"
   ]
  },
  {
   "cell_type": "code",
   "execution_count": null,
   "id": "4c452585",
   "metadata": {},
   "outputs": [],
   "source": []
  }
 ],
 "metadata": {
  "kernelspec": {
   "display_name": "Python 3",
   "language": "python",
   "name": "python3"
  },
  "language_info": {
   "codemirror_mode": {
    "name": "ipython",
    "version": 3
   },
   "file_extension": ".py",
   "mimetype": "text/x-python",
   "name": "python",
   "nbconvert_exporter": "python",
   "pygments_lexer": "ipython3",
   "version": "3.9.7"
  }
 },
 "nbformat": 4,
 "nbformat_minor": 5
}
