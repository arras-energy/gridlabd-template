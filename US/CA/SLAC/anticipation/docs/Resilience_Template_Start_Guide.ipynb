{
 "cells": [
  {
   "cell_type": "markdown",
   "id": "967157e9",
   "metadata": {},
   "source": [
    "# Resilience Template Start Guide \n",
    "\n",
    "## Environment Setup and Directory Navigation\n",
    "\n",
    "1. Obtain a copy of a HiPAS GridLAB-D docker image. For more details on this step refer to https://github.com/slacgismo/gridlabd/wiki. \n",
    "\n",
    "2. Use the template subcommand to obtain the `anticipation` template. For more details on this process refer to https://docs.gridlabd.us/_page.html?owner=slacgismo&project=gridlabd&branch=master&folder=/Subcommand&doc=/Subcommand/Template.md \n",
    "\n",
    "## File Descriptions\n",
    "This section describes useful files that can be manipulated to produce different results. \n",
    "\n",
    "anticipation.glm - the main file that produces the glm objects based on its inputs. Currently, the three inputs that can be used are *pole_library_config.csv, pole_vulnerability_config.csv,* and *Sample_Output.csv*. Descriptions of these files can be found below. User has to manually comment and uncomment commands to change which file is being used as an input. After this file is run, a .glm file is produced with the same name as the input. \n",
    "\n",
    "pole_library_config.csv - an input file for *anticipation.glm*. It represents different pole configurations and each row is read to be a pole_configuration object while the columns are different properties of a pole configuration object. \n",
    "\n",
    "pole_vulnerability_config.csv - an input file for *anticipation.glm*. It represents different poles and each row is read to be a pole object while the columns are different properties of a pole object. \n",
    "\n",
    "Sample_Output.csv - the output of *pole_file_converter.py*. It contains information for a pole, a pole configuration, and numerous pole mounts. Further description of *pole_file_converter.py* can be found below. \n",
    "\n",
    "pole_file_converter.py - this python program takes in the input *Pole_Output_Sample.xls* and outputs *Sample_Output.csv*. It's main purpose is to convert information from the input into a GridLAB-D readable .csv file. It also outputs intermediate files *Design - Pole.csv* (pole and pole configuration data), *Design - Strcture.csv* (pole mount data), and *Analysis.csv*, which are the transformed sheets in *Pole_Output_Sample.xls* before they are combined into Sample_Output.csv. Currently, *Analysis.csv* is not used or converted. \n"
   ]
  },
  {
   "cell_type": "code",
   "execution_count": null,
   "id": "489fa035",
   "metadata": {},
   "outputs": [],
   "source": []
  }
 ],
 "metadata": {
  "kernelspec": {
   "display_name": "Python 3",
   "language": "python",
   "name": "python3"
  },
  "language_info": {
   "codemirror_mode": {
    "name": "ipython",
    "version": 3
   },
   "file_extension": ".py",
   "mimetype": "text/x-python",
   "name": "python",
   "nbconvert_exporter": "python",
   "pygments_lexer": "ipython3",
   "version": "3.9.6"
  }
 },
 "nbformat": 4,
 "nbformat_minor": 5
}
